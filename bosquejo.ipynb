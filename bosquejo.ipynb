{
  "nbformat": 4,
  "nbformat_minor": 0,
  "metadata": {
    "colab": {
      "provenance": [],
      "authorship_tag": "ABX9TyPRri7joJThLUUkT2b8lQaO",
      "include_colab_link": true
    },
    "kernelspec": {
      "name": "python3",
      "display_name": "Python 3"
    },
    "language_info": {
      "name": "python"
    }
  },
  "cells": [
    {
      "cell_type": "markdown",
      "metadata": {
        "id": "view-in-github",
        "colab_type": "text"
      },
      "source": [
        "<a href=\"https://colab.research.google.com/github/allisonmardones99/bosquejo/blob/main/bosquejo.ipynb\" target=\"_parent\"><img src=\"https://colab.research.google.com/assets/colab-badge.svg\" alt=\"Open In Colab\"/></a>"
      ]
    },
    {
      "cell_type": "markdown",
      "source": [
        "Uso de Markdown"
      ],
      "metadata": {
        "id": "f0TJpxL3VoiA"
      }
    },
    {
      "cell_type": "markdown",
      "source": [
        "# ¿Quiénes somos?\n",
        "\n",
        "### Somos una iniciativa de Samsung a nivel global enfocada en empoderar a toda una generación con habilidades 4.0 en un contexto impulsado por la tecnología\n",
        "\n",
        "## > +500\n",
        "> jóvenes chilenos certificados desde 2020 en competencias de codificación, programación, big data, IoT e inteligencia artificial\n",
        "\n",
        "\n",
        "\n",
        "**Samsung Innovation Campus** Chile es un programa intensivo de Samsung que entrega competencias en IA, Big Data y programación. Junto a la ONG Innovacien hemos certificado a cientos de jóvenes desde 2020."
      ],
      "metadata": {
        "id": "yZqAFbGxYpAo"
      }
    },
    {
      "cell_type": "markdown",
      "source": [
        "![Imagen DE SIC](https://innovationcampus.cl/wp-content/uploads/2025/05/Estudiantes-SIC-1.jpg)\n"
      ],
      "metadata": {
        "id": "yWWUN9bKbUpv"
      }
    },
    {
      "cell_type": "markdown",
      "source": [],
      "metadata": {
        "id": "0c4u7XzlcLd8"
      }
    }
  ]
}